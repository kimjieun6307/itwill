{
  "nbformat": 4,
  "nbformat_minor": 0,
  "metadata": {
    "colab": {
      "name": "전처리.ipynb",
      "provenance": [],
      "collapsed_sections": [],
      "authorship_tag": "ABX9TyMY85t4CxZsLbt1U3pBkuee"
    },
    "kernelspec": {
      "name": "python3",
      "display_name": "Python 3"
    }
  },
  "cells": [
    {
      "cell_type": "code",
      "metadata": {
        "id": "8NGYP1xEXqtx",
        "colab_type": "code",
        "colab": {
          "base_uri": "https://localhost:8080/",
          "height": 35
        },
        "outputId": "7771ed8c-1a11-4677-8e23-001dd7a30b27"
      },
      "source": [
        "import tensorflow as tf\n",
        "tf.__version__"
      ],
      "execution_count": 1,
      "outputs": [
        {
          "output_type": "execute_result",
          "data": {
            "application/vnd.google.colaboratory.intrinsic": {
              "type": "string"
            },
            "text/plain": [
              "'2.2.0'"
            ]
          },
          "metadata": {
            "tags": []
          },
          "execution_count": 1
        }
      ]
    },
    {
      "cell_type": "code",
      "metadata": {
        "id": "s723JCa_hmd4",
        "colab_type": "code",
        "colab": {}
      },
      "source": [
        "from collections import Counter\n",
        "from datetime import timedelta, datetime\n",
        "import glob\n",
        "from itertools import chain\n",
        "import json\n",
        "import os\n",
        "import re\n",
        "\n"
      ],
      "execution_count": null,
      "outputs": []
    },
    {
      "cell_type": "markdown",
      "metadata": {
        "id": "tKiEdd2NipON",
        "colab_type": "text"
      },
      "source": [
        ""
      ]
    },
    {
      "cell_type": "code",
      "metadata": {
        "id": "DcXhDYXWic11",
        "colab_type": "code",
        "colab": {
          "base_uri": "https://localhost:8080/",
          "height": 53
        },
        "outputId": "777cd4b2-daa1-43b0-fda8-af3afca77ea0"
      },
      "source": [
        "import matplotlib.pyplot as plt\n",
        "import numpy as np\n",
        "import pandas as pd\n",
        "from pandas.plotting import register_matplotlib_converters\n",
        "import seaborn as sns"
      ],
      "execution_count": null,
      "outputs": [
        {
          "output_type": "stream",
          "text": [
            "/usr/local/lib/python3.6/dist-packages/statsmodels/tools/_testing.py:19: FutureWarning: pandas.util.testing is deprecated. Use the functions in the public API at pandas.testing instead.\n",
            "  import pandas.util.testing as tm\n"
          ],
          "name": "stderr"
        }
      ]
    },
    {
      "cell_type": "markdown",
      "metadata": {
        "id": "ofn-eyxwjvWG",
        "colab_type": "text"
      },
      "source": [
        ""
      ]
    },
    {
      "cell_type": "markdown",
      "metadata": {
        "id": "4gLK99Kpiobb",
        "colab_type": "text"
      },
      "source": [
        ""
      ]
    },
    {
      "cell_type": "code",
      "metadata": {
        "id": "ydxtKD4KinMc",
        "colab_type": "code",
        "colab": {
          "base_uri": "https://localhost:8080/",
          "height": 127
        },
        "outputId": "042bb163-4b3f-4039-865f-ccf7b6c59417"
      },
      "source": [
        "from google.colab import drive\n",
        "drive.mount('/content/drive/')\n"
      ],
      "execution_count": null,
      "outputs": [
        {
          "output_type": "stream",
          "text": [
            "Go to this URL in a browser: https://accounts.google.com/o/oauth2/auth?client_id=947318989803-6bn6qk8qdgf4n4g3pfee6491hc0brc4i.apps.googleusercontent.com&redirect_uri=urn%3aietf%3awg%3aoauth%3a2.0%3aoob&response_type=code&scope=email%20https%3a%2f%2fwww.googleapis.com%2fauth%2fdocs.test%20https%3a%2f%2fwww.googleapis.com%2fauth%2fdrive%20https%3a%2f%2fwww.googleapis.com%2fauth%2fdrive.photos.readonly%20https%3a%2f%2fwww.googleapis.com%2fauth%2fpeopleapi.readonly\n",
            "\n",
            "Enter your authorization code:\n",
            "··········\n",
            "Mounted at /content/drive/\n"
          ],
          "name": "stdout"
        }
      ]
    },
    {
      "cell_type": "code",
      "metadata": {
        "id": "Iofc18LrkD9a",
        "colab_type": "code",
        "colab": {
          "base_uri": "https://localhost:8080/",
          "height": 204
        },
        "outputId": "fd58f35a-c015-4e31-88c1-8e0b924343a2"
      },
      "source": [
        "import pandas as pd\n",
        "\n",
        "magazine = pd.read_json(\"/content/drive/My Drive/branch/data/magazine.json\", lines = True)\n",
        "magazine.head()"
      ],
      "execution_count": null,
      "outputs": [
        {
          "output_type": "execute_result",
          "data": {
            "text/html": [
              "<div>\n",
              "<style scoped>\n",
              "    .dataframe tbody tr th:only-of-type {\n",
              "        vertical-align: middle;\n",
              "    }\n",
              "\n",
              "    .dataframe tbody tr th {\n",
              "        vertical-align: top;\n",
              "    }\n",
              "\n",
              "    .dataframe thead th {\n",
              "        text-align: right;\n",
              "    }\n",
              "</style>\n",
              "<table border=\"1\" class=\"dataframe\">\n",
              "  <thead>\n",
              "    <tr style=\"text-align: right;\">\n",
              "      <th></th>\n",
              "      <th>magazine_tag_list</th>\n",
              "      <th>id</th>\n",
              "    </tr>\n",
              "  </thead>\n",
              "  <tbody>\n",
              "    <tr>\n",
              "      <th>0</th>\n",
              "      <td>[브런치북, 육아일기, 대화법, 들려주고픈이야기]</td>\n",
              "      <td>38842</td>\n",
              "    </tr>\n",
              "    <tr>\n",
              "      <th>1</th>\n",
              "      <td>[tea, food]</td>\n",
              "      <td>11540</td>\n",
              "    </tr>\n",
              "    <tr>\n",
              "      <th>2</th>\n",
              "      <td>[food]</td>\n",
              "      <td>11541</td>\n",
              "    </tr>\n",
              "    <tr>\n",
              "      <th>3</th>\n",
              "      <td>[브런치북, 일상, 시, 사람]</td>\n",
              "      <td>11546</td>\n",
              "    </tr>\n",
              "    <tr>\n",
              "      <th>4</th>\n",
              "      <td>[감성에세이, 노래, 음악에세이]</td>\n",
              "      <td>11544</td>\n",
              "    </tr>\n",
              "  </tbody>\n",
              "</table>\n",
              "</div>"
            ],
            "text/plain": [
              "             magazine_tag_list     id\n",
              "0  [브런치북, 육아일기, 대화법, 들려주고픈이야기]  38842\n",
              "1                  [tea, food]  11540\n",
              "2                       [food]  11541\n",
              "3            [브런치북, 일상, 시, 사람]  11546\n",
              "4           [감성에세이, 노래, 음악에세이]  11544"
            ]
          },
          "metadata": {
            "tags": []
          },
          "execution_count": 77
        }
      ]
    },
    {
      "cell_type": "markdown",
      "metadata": {
        "id": "4A4_GVbzk-s7",
        "colab_type": "text"
      },
      "source": [
        "magazine.shape\n",
        "(27967, 2)"
      ]
    },
    {
      "cell_type": "code",
      "metadata": {
        "id": "w1T5GLUfVhT9",
        "colab_type": "code",
        "colab": {
          "base_uri": "https://localhost:8080/",
          "height": 233
        },
        "outputId": "21ef115d-67d9-4789-d98b-74d07cc6b3be"
      },
      "source": [
        "magazine_cnt = magazine['id'].value_counts()\n",
        "magazine_cnt"
      ],
      "execution_count": null,
      "outputs": [
        {
          "output_type": "execute_result",
          "data": {
            "text/plain": [
              "2047     1\n",
              "23969    1\n",
              "42366    1\n",
              "30084    1\n",
              "28039    1\n",
              "        ..\n",
              "19196    1\n",
              "23294    1\n",
              "21247    1\n",
              "43776    1\n",
              "0        1\n",
              "Name: id, Length: 27967, dtype: int64"
            ]
          },
          "metadata": {
            "tags": []
          },
          "execution_count": 80
        }
      ]
    },
    {
      "cell_type": "code",
      "metadata": {
        "id": "juRzJxWqV3N2",
        "colab_type": "code",
        "colab": {
          "base_uri": "https://localhost:8080/",
          "height": 35
        },
        "outputId": "f3d87c1e-6160-4638-9f83-9cb1f52ea4bc"
      },
      "source": [
        "type(magazine_cnt) # pandas.core.series.Series\n",
        "len(magazine_cnt.unique()) # 1\n",
        "len(magazine['id'].unique()) # 27967"
      ],
      "execution_count": null,
      "outputs": [
        {
          "output_type": "execute_result",
          "data": {
            "text/plain": [
              "27967"
            ]
          },
          "metadata": {
            "tags": []
          },
          "execution_count": 110
        }
      ]
    },
    {
      "cell_type": "code",
      "metadata": {
        "id": "cP3nkjJUO8R3",
        "colab_type": "code",
        "colab": {}
      },
      "source": [
        "magazine.to_csv('/content/drive/My Drive/branch/data/magazine.csv', index = False)"
      ],
      "execution_count": null,
      "outputs": []
    },
    {
      "cell_type": "code",
      "metadata": {
        "id": "e7Gsi6Z3Plla",
        "colab_type": "code",
        "colab": {
          "base_uri": "https://localhost:8080/",
          "height": 235
        },
        "outputId": "bb761e69-43cc-4f19-9ec7-d139efe87d9c"
      },
      "source": [
        "magazine_df = pd.read_csv('/content/drive/My Drive/branch/data/magazine.csv', index_col='id')\n",
        "magazine_df.head()"
      ],
      "execution_count": null,
      "outputs": [
        {
          "output_type": "execute_result",
          "data": {
            "text/html": [
              "<div>\n",
              "<style scoped>\n",
              "    .dataframe tbody tr th:only-of-type {\n",
              "        vertical-align: middle;\n",
              "    }\n",
              "\n",
              "    .dataframe tbody tr th {\n",
              "        vertical-align: top;\n",
              "    }\n",
              "\n",
              "    .dataframe thead th {\n",
              "        text-align: right;\n",
              "    }\n",
              "</style>\n",
              "<table border=\"1\" class=\"dataframe\">\n",
              "  <thead>\n",
              "    <tr style=\"text-align: right;\">\n",
              "      <th></th>\n",
              "      <th>magazine_tag_list</th>\n",
              "    </tr>\n",
              "    <tr>\n",
              "      <th>id</th>\n",
              "      <th></th>\n",
              "    </tr>\n",
              "  </thead>\n",
              "  <tbody>\n",
              "    <tr>\n",
              "      <th>38842</th>\n",
              "      <td>['브런치북', '육아일기', '대화법', '들려주고픈이야기']</td>\n",
              "    </tr>\n",
              "    <tr>\n",
              "      <th>11540</th>\n",
              "      <td>['tea', 'food']</td>\n",
              "    </tr>\n",
              "    <tr>\n",
              "      <th>11541</th>\n",
              "      <td>['food']</td>\n",
              "    </tr>\n",
              "    <tr>\n",
              "      <th>11546</th>\n",
              "      <td>['브런치북', '일상', '시', '사람']</td>\n",
              "    </tr>\n",
              "    <tr>\n",
              "      <th>11544</th>\n",
              "      <td>['감성에세이', '노래', '음악에세이']</td>\n",
              "    </tr>\n",
              "  </tbody>\n",
              "</table>\n",
              "</div>"
            ],
            "text/plain": [
              "                         magazine_tag_list\n",
              "id                                        \n",
              "38842  ['브런치북', '육아일기', '대화법', '들려주고픈이야기']\n",
              "11540                      ['tea', 'food']\n",
              "11541                             ['food']\n",
              "11546            ['브런치북', '일상', '시', '사람']\n",
              "11544             ['감성에세이', '노래', '음악에세이']"
            ]
          },
          "metadata": {
            "tags": []
          },
          "execution_count": 56
        }
      ]
    },
    {
      "cell_type": "code",
      "metadata": {
        "id": "QBlvokrBkblk",
        "colab_type": "code",
        "colab": {
          "base_uri": "https://localhost:8080/",
          "height": 204
        },
        "outputId": "adbc5948-09f8-49b9-ed12-1f0e9a33d4b6"
      },
      "source": [
        "metadata = pd.read_json(\"/content/drive/My Drive/branch/data/metadata.json\", lines=True)\n",
        "metadata.head()"
      ],
      "execution_count": null,
      "outputs": [
        {
          "output_type": "execute_result",
          "data": {
            "text/html": [
              "<div>\n",
              "<style scoped>\n",
              "    .dataframe tbody tr th:only-of-type {\n",
              "        vertical-align: middle;\n",
              "    }\n",
              "\n",
              "    .dataframe tbody tr th {\n",
              "        vertical-align: top;\n",
              "    }\n",
              "\n",
              "    .dataframe thead th {\n",
              "        text-align: right;\n",
              "    }\n",
              "</style>\n",
              "<table border=\"1\" class=\"dataframe\">\n",
              "  <thead>\n",
              "    <tr style=\"text-align: right;\">\n",
              "      <th></th>\n",
              "      <th>magazine_id</th>\n",
              "      <th>user_id</th>\n",
              "      <th>title</th>\n",
              "      <th>keyword_list</th>\n",
              "      <th>display_url</th>\n",
              "      <th>sub_title</th>\n",
              "      <th>reg_ts</th>\n",
              "      <th>article_id</th>\n",
              "      <th>id</th>\n",
              "    </tr>\n",
              "  </thead>\n",
              "  <tbody>\n",
              "    <tr>\n",
              "      <th>0</th>\n",
              "      <td>8982</td>\n",
              "      <td>@bookdb</td>\n",
              "      <td>사진으로 옮기기에도 아까운, 리치필드 국립공원</td>\n",
              "      <td>[여행, 호주, 국립공원]</td>\n",
              "      <td>https://brunch.co.kr/@bookdb/782</td>\n",
              "      <td>세상 어디에도 없는 호주 Top 10</td>\n",
              "      <td>1474944427000</td>\n",
              "      <td>782</td>\n",
              "      <td>@bookdb_782</td>\n",
              "    </tr>\n",
              "    <tr>\n",
              "      <th>1</th>\n",
              "      <td>12081</td>\n",
              "      <td>@kohwang56</td>\n",
              "      <td>[시] 서러운 봄</td>\n",
              "      <td>[목련꽃, 아지랑이, 동행]</td>\n",
              "      <td>https://brunch.co.kr/@kohwang56/81</td>\n",
              "      <td></td>\n",
              "      <td>1463092749000</td>\n",
              "      <td>81</td>\n",
              "      <td>@kohwang56_81</td>\n",
              "    </tr>\n",
              "    <tr>\n",
              "      <th>2</th>\n",
              "      <td>0</td>\n",
              "      <td>@hannahajink</td>\n",
              "      <td>무엇을 위해</td>\n",
              "      <td>[]</td>\n",
              "      <td>https://brunch.co.kr/@hannahajink/4</td>\n",
              "      <td>무엇 때문에</td>\n",
              "      <td>1447997287000</td>\n",
              "      <td>4</td>\n",
              "      <td>@hannahajink_4</td>\n",
              "    </tr>\n",
              "    <tr>\n",
              "      <th>3</th>\n",
              "      <td>16315</td>\n",
              "      <td>@bryceandjuli</td>\n",
              "      <td>싫다</td>\n",
              "      <td>[감정, 마음, 위로]</td>\n",
              "      <td>https://brunch.co.kr/@bryceandjuli/88</td>\n",
              "      <td></td>\n",
              "      <td>1491055161000</td>\n",
              "      <td>88</td>\n",
              "      <td>@bryceandjuli_88</td>\n",
              "    </tr>\n",
              "    <tr>\n",
              "      <th>4</th>\n",
              "      <td>29363</td>\n",
              "      <td>@mijeongpark</td>\n",
              "      <td>Dubliner#7</td>\n",
              "      <td>[유럽여행, 더블린, 아일랜드]</td>\n",
              "      <td>https://brunch.co.kr/@mijeongpark/34</td>\n",
              "      <td>#7. 내 친구의 집은 어디인가</td>\n",
              "      <td>1523292942000</td>\n",
              "      <td>34</td>\n",
              "      <td>@mijeongpark_34</td>\n",
              "    </tr>\n",
              "  </tbody>\n",
              "</table>\n",
              "</div>"
            ],
            "text/plain": [
              "   magazine_id        user_id  ... article_id                id\n",
              "0         8982        @bookdb  ...        782       @bookdb_782\n",
              "1        12081     @kohwang56  ...         81     @kohwang56_81\n",
              "2            0   @hannahajink  ...          4    @hannahajink_4\n",
              "3        16315  @bryceandjuli  ...         88  @bryceandjuli_88\n",
              "4        29363   @mijeongpark  ...         34   @mijeongpark_34\n",
              "\n",
              "[5 rows x 9 columns]"
            ]
          },
          "metadata": {
            "tags": []
          },
          "execution_count": 72
        }
      ]
    },
    {
      "cell_type": "code",
      "metadata": {
        "id": "aZ8a5Ge5lIv8",
        "colab_type": "code",
        "colab": {
          "base_uri": "https://localhost:8080/",
          "height": 35
        },
        "outputId": "ea202e3a-38ad-4c46-98c6-8080b03fea30"
      },
      "source": [
        "metadata.shape"
      ],
      "execution_count": null,
      "outputs": [
        {
          "output_type": "execute_result",
          "data": {
            "text/plain": [
              "(643104, 9)"
            ]
          },
          "metadata": {
            "tags": []
          },
          "execution_count": 7
        }
      ]
    },
    {
      "cell_type": "code",
      "metadata": {
        "id": "ZIW_4hFrX1vG",
        "colab_type": "code",
        "colab": {
          "base_uri": "https://localhost:8080/",
          "height": 35
        },
        "outputId": "ed22cf08-2da4-490d-c330-b916ca8854ec"
      },
      "source": [
        "len(metadata['magazine_id'].unique())"
      ],
      "execution_count": null,
      "outputs": [
        {
          "output_type": "execute_result",
          "data": {
            "text/plain": [
              "28028"
            ]
          },
          "metadata": {
            "tags": []
          },
          "execution_count": 105
        }
      ]
    },
    {
      "cell_type": "code",
      "metadata": {
        "id": "dqtPbQWLUpuY",
        "colab_type": "code",
        "colab": {
          "base_uri": "https://localhost:8080/",
          "height": 737
        },
        "outputId": "6f6388ba-9c22-4ab1-9bd0-94d219c66a21"
      },
      "source": [
        "metadata_cnt= metadata['magazine_id'].value_counts()\n",
        "len(metadata_cnt.unique()) #318\n",
        "metadata_cnt.unique()"
      ],
      "execution_count": null,
      "outputs": [
        {
          "output_type": "execute_result",
          "data": {
            "text/plain": [
              "array([160823,   2430,   1417,   1300,   1279,   1069,    988,    889,\n",
              "          816,    784,    692,    664,    622,    617,    611,    607,\n",
              "          551,    523,    504,    498,    492,    488,    486,    481,\n",
              "          479,    478,    469,    465,    459,    458,    454,    444,\n",
              "          438,    429,    420,    415,    413,    409,    407,    406,\n",
              "          403,    390,    385,    380,    376,    374,    372,    371,\n",
              "          370,    369,    366,    365,    364,    363,    362,    360,\n",
              "          354,    353,    350,    348,    340,    337,    336,    335,\n",
              "          334,    330,    328,    327,    322,    321,    319,    311,\n",
              "          307,    306,    305,    295,    290,    282,    280,    277,\n",
              "          273,    270,    269,    266,    265,    261,    259,    256,\n",
              "          254,    252,    251,    250,    249,    246,    245,    243,\n",
              "          242,    241,    240,    238,    237,    236,    233,    231,\n",
              "          230,    229,    228,    226,    225,    224,    221,    220,\n",
              "          219,    217,    216,    213,    212,    211,    210,    209,\n",
              "          207,    206,    205,    204,    203,    202,    200,    197,\n",
              "          196,    195,    194,    193,    192,    191,    190,    189,\n",
              "          188,    185,    184,    183,    182,    181,    180,    179,\n",
              "          178,    177,    176,    175,    174,    173,    172,    170,\n",
              "          169,    168,    167,    166,    165,    164,    163,    161,\n",
              "          160,    159,    158,    157,    155,    154,    153,    152,\n",
              "          151,    150,    149,    148,    147,    146,    145,    144,\n",
              "          143,    142,    140,    139,    138,    137,    136,    135,\n",
              "          134,    133,    132,    131,    130,    129,    128,    127,\n",
              "          126,    125,    124,    123,    122,    121,    120,    119,\n",
              "          118,    117,    116,    115,    114,    113,    112,    111,\n",
              "          110,    109,    108,    107,    106,    105,    104,    103,\n",
              "          102,    101,    100,     99,     98,     97,     96,     95,\n",
              "           94,     93,     92,     91,     90,     89,     88,     87,\n",
              "           86,     85,     84,     83,     82,     81,     80,     79,\n",
              "           78,     77,     76,     75,     74,     73,     72,     71,\n",
              "           70,     69,     68,     67,     66,     65,     64,     63,\n",
              "           62,     61,     60,     59,     58,     57,     56,     55,\n",
              "           54,     53,     52,     51,     50,     49,     48,     47,\n",
              "           46,     45,     44,     43,     42,     41,     40,     39,\n",
              "           38,     37,     36,     35,     34,     33,     32,     31,\n",
              "           30,     29,     28,     27,     26,     25,     24,     23,\n",
              "           22,     21,     20,     19,     18,     17,     16,     15,\n",
              "           14,     13,     12,     11,     10,      9,      8,      7,\n",
              "            6,      5,      4,      3,      2,      1])"
            ]
          },
          "metadata": {
            "tags": []
          },
          "execution_count": 106
        }
      ]
    },
    {
      "cell_type": "markdown",
      "metadata": {
        "id": "csis5ZrnYv-1",
        "colab_type": "text"
      },
      "source": [
        "magazine id는 중복되지 않음.\n",
        "metadata의 magazine_id 는 중복 된 것이 많음.\n",
        "즉, magazine id 별 metadata는 여러개임."
      ]
    },
    {
      "cell_type": "code",
      "metadata": {
        "id": "sc8GpzODNe5a",
        "colab_type": "code",
        "colab": {}
      },
      "source": [
        "metadata.to_csv('/content/drive/My Drive/branch/data/metadata.csv', index = False)"
      ],
      "execution_count": null,
      "outputs": []
    },
    {
      "cell_type": "code",
      "metadata": {
        "id": "nhAvhEK-PzOf",
        "colab_type": "code",
        "colab": {
          "base_uri": "https://localhost:8080/",
          "height": 444
        },
        "outputId": "f1b00be6-3ba9-44d3-e59d-71f6175961ad"
      },
      "source": [
        " metadata_df= pd.read_csv('/content/drive/My Drive/branch/data/metadata.csv', index_col='magazine_id')\n",
        "metadata_df.head()"
      ],
      "execution_count": null,
      "outputs": [
        {
          "output_type": "stream",
          "text": [
            "/usr/local/lib/python3.6/dist-packages/IPython/core/interactiveshell.py:2718: DtypeWarning: Columns (6) have mixed types.Specify dtype option on import or set low_memory=False.\n",
            "  interactivity=interactivity, compiler=compiler, result=result)\n"
          ],
          "name": "stderr"
        },
        {
          "output_type": "execute_result",
          "data": {
            "text/html": [
              "<div>\n",
              "<style scoped>\n",
              "    .dataframe tbody tr th:only-of-type {\n",
              "        vertical-align: middle;\n",
              "    }\n",
              "\n",
              "    .dataframe tbody tr th {\n",
              "        vertical-align: top;\n",
              "    }\n",
              "\n",
              "    .dataframe thead th {\n",
              "        text-align: right;\n",
              "    }\n",
              "</style>\n",
              "<table border=\"1\" class=\"dataframe\">\n",
              "  <thead>\n",
              "    <tr style=\"text-align: right;\">\n",
              "      <th></th>\n",
              "      <th>user_id</th>\n",
              "      <th>title</th>\n",
              "      <th>keyword_list</th>\n",
              "      <th>display_url</th>\n",
              "      <th>sub_title</th>\n",
              "      <th>reg_ts</th>\n",
              "      <th>article_id</th>\n",
              "      <th>id</th>\n",
              "    </tr>\n",
              "    <tr>\n",
              "      <th>magazine_id</th>\n",
              "      <th></th>\n",
              "      <th></th>\n",
              "      <th></th>\n",
              "      <th></th>\n",
              "      <th></th>\n",
              "      <th></th>\n",
              "      <th></th>\n",
              "      <th></th>\n",
              "    </tr>\n",
              "  </thead>\n",
              "  <tbody>\n",
              "    <tr>\n",
              "      <th>8982.0</th>\n",
              "      <td>@bookdb</td>\n",
              "      <td>사진으로 옮기기에도 아까운, 리치필드 국립공원</td>\n",
              "      <td>['여행', '호주', '국립공원']</td>\n",
              "      <td>https://brunch.co.kr/@bookdb/782</td>\n",
              "      <td>세상 어디에도 없는 호주 Top 10</td>\n",
              "      <td>1.47494e+12</td>\n",
              "      <td>782.0</td>\n",
              "      <td>@bookdb_782</td>\n",
              "    </tr>\n",
              "    <tr>\n",
              "      <th>12081.0</th>\n",
              "      <td>@kohwang56</td>\n",
              "      <td>[시] 서러운 봄</td>\n",
              "      <td>['목련꽃', '아지랑이', '동행']</td>\n",
              "      <td>https://brunch.co.kr/@kohwang56/81</td>\n",
              "      <td>NaN</td>\n",
              "      <td>1.46309e+12</td>\n",
              "      <td>81.0</td>\n",
              "      <td>@kohwang56_81</td>\n",
              "    </tr>\n",
              "    <tr>\n",
              "      <th>0.0</th>\n",
              "      <td>@hannahajink</td>\n",
              "      <td>무엇을 위해</td>\n",
              "      <td>[]</td>\n",
              "      <td>https://brunch.co.kr/@hannahajink/4</td>\n",
              "      <td>무엇 때문에</td>\n",
              "      <td>1.448e+12</td>\n",
              "      <td>4.0</td>\n",
              "      <td>@hannahajink_4</td>\n",
              "    </tr>\n",
              "    <tr>\n",
              "      <th>16315.0</th>\n",
              "      <td>@bryceandjuli</td>\n",
              "      <td>싫다</td>\n",
              "      <td>['감정', '마음', '위로']</td>\n",
              "      <td>https://brunch.co.kr/@bryceandjuli/88</td>\n",
              "      <td>NaN</td>\n",
              "      <td>1.49106e+12</td>\n",
              "      <td>88.0</td>\n",
              "      <td>@bryceandjuli_88</td>\n",
              "    </tr>\n",
              "    <tr>\n",
              "      <th>29363.0</th>\n",
              "      <td>@mijeongpark</td>\n",
              "      <td>Dubliner#7</td>\n",
              "      <td>['유럽여행', '더블린', '아일랜드']</td>\n",
              "      <td>https://brunch.co.kr/@mijeongpark/34</td>\n",
              "      <td>#7. 내 친구의 집은 어디인가</td>\n",
              "      <td>1.52329e+12</td>\n",
              "      <td>34.0</td>\n",
              "      <td>@mijeongpark_34</td>\n",
              "    </tr>\n",
              "  </tbody>\n",
              "</table>\n",
              "</div>"
            ],
            "text/plain": [
              "                   user_id  ...                id\n",
              "magazine_id                 ...                  \n",
              "8982.0             @bookdb  ...       @bookdb_782\n",
              "12081.0         @kohwang56  ...     @kohwang56_81\n",
              "0.0           @hannahajink  ...    @hannahajink_4\n",
              "16315.0      @bryceandjuli  ...  @bryceandjuli_88\n",
              "29363.0       @mijeongpark  ...   @mijeongpark_34\n",
              "\n",
              "[5 rows x 8 columns]"
            ]
          },
          "metadata": {
            "tags": []
          },
          "execution_count": 57
        }
      ]
    },
    {
      "cell_type": "code",
      "metadata": {
        "id": "LtoPJ7_CQjlZ",
        "colab_type": "code",
        "colab": {
          "base_uri": "https://localhost:8080/",
          "height": 445
        },
        "outputId": "f83fc660-6006-4657-b4f6-5d39d9163d6e"
      },
      "source": [
        "# magazine_join = pd.concat([magazine, metadata], join='outer', axis=1)\n",
        "magazine_join = pd.merge(magazine_df, metadata_df, how='outer', left_index=True, right_index=True)\n",
        "magazine_join.head()"
      ],
      "execution_count": null,
      "outputs": [
        {
          "output_type": "execute_result",
          "data": {
            "text/html": [
              "<div>\n",
              "<style scoped>\n",
              "    .dataframe tbody tr th:only-of-type {\n",
              "        vertical-align: middle;\n",
              "    }\n",
              "\n",
              "    .dataframe tbody tr th {\n",
              "        vertical-align: top;\n",
              "    }\n",
              "\n",
              "    .dataframe thead th {\n",
              "        text-align: right;\n",
              "    }\n",
              "</style>\n",
              "<table border=\"1\" class=\"dataframe\">\n",
              "  <thead>\n",
              "    <tr style=\"text-align: right;\">\n",
              "      <th></th>\n",
              "      <th>magazine_tag_list</th>\n",
              "      <th>user_id</th>\n",
              "      <th>title</th>\n",
              "      <th>keyword_list</th>\n",
              "      <th>display_url</th>\n",
              "      <th>sub_title</th>\n",
              "      <th>reg_ts</th>\n",
              "      <th>article_id</th>\n",
              "      <th>id</th>\n",
              "    </tr>\n",
              "  </thead>\n",
              "  <tbody>\n",
              "    <tr>\n",
              "      <th>0.0</th>\n",
              "      <td>[]</td>\n",
              "      <td>@hannahajink</td>\n",
              "      <td>무엇을 위해</td>\n",
              "      <td>[]</td>\n",
              "      <td>https://brunch.co.kr/@hannahajink/4</td>\n",
              "      <td>무엇 때문에</td>\n",
              "      <td>1.448e+12</td>\n",
              "      <td>4.0</td>\n",
              "      <td>@hannahajink_4</td>\n",
              "    </tr>\n",
              "    <tr>\n",
              "      <th>0.0</th>\n",
              "      <td>[]</td>\n",
              "      <td>@purnbd</td>\n",
              "      <td>동시빵가게</td>\n",
              "      <td>['도시애벌레', '공부', '동시']</td>\n",
              "      <td>https://brunch.co.kr/@purnbd/9</td>\n",
              "      <td>8. 동시빵 맛보기-'도시 애벌레'</td>\n",
              "      <td>1.50569e+12</td>\n",
              "      <td>9.0</td>\n",
              "      <td>@purnbd_9</td>\n",
              "    </tr>\n",
              "    <tr>\n",
              "      <th>0.0</th>\n",
              "      <td>[]</td>\n",
              "      <td>@purnbd</td>\n",
              "      <td>동시빵가게</td>\n",
              "      <td>['주머니', '동시', '빵가게']</td>\n",
              "      <td>https://brunch.co.kr/@purnbd/7</td>\n",
              "      <td>6. 동시빵 맛보기- '펠리컨'</td>\n",
              "      <td>1.50448e+12</td>\n",
              "      <td>7.0</td>\n",
              "      <td>@purnbd_7</td>\n",
              "    </tr>\n",
              "    <tr>\n",
              "      <th>0.0</th>\n",
              "      <td>[]</td>\n",
              "      <td>@fskene</td>\n",
              "      <td>첫사랑 이였을까?</td>\n",
              "      <td>['감성에세이', '사랑', '첫사랑']</td>\n",
              "      <td>https://brunch.co.kr/@fskene/247</td>\n",
              "      <td>NaN</td>\n",
              "      <td>1.47794e+12</td>\n",
              "      <td>247.0</td>\n",
              "      <td>@fskene_247</td>\n",
              "    </tr>\n",
              "    <tr>\n",
              "      <th>0.0</th>\n",
              "      <td>[]</td>\n",
              "      <td>@hyunj2407</td>\n",
              "      <td>기억을 쌓아 상영하는 곳</td>\n",
              "      <td>['문화극장', '극장']</td>\n",
              "      <td>https://brunch.co.kr/@hyunj2407/14</td>\n",
              "      <td>2016.09. 동두천 문화극장</td>\n",
              "      <td>1.47411e+12</td>\n",
              "      <td>14.0</td>\n",
              "      <td>@hyunj2407_14</td>\n",
              "    </tr>\n",
              "  </tbody>\n",
              "</table>\n",
              "</div>"
            ],
            "text/plain": [
              "    magazine_tag_list       user_id  ... article_id              id\n",
              "0.0                []  @hannahajink  ...        4.0  @hannahajink_4\n",
              "0.0                []       @purnbd  ...        9.0       @purnbd_9\n",
              "0.0                []       @purnbd  ...        7.0       @purnbd_7\n",
              "0.0                []       @fskene  ...      247.0     @fskene_247\n",
              "0.0                []    @hyunj2407  ...       14.0   @hyunj2407_14\n",
              "\n",
              "[5 rows x 9 columns]"
            ]
          },
          "metadata": {
            "tags": []
          },
          "execution_count": 58
        }
      ]
    },
    {
      "cell_type": "code",
      "metadata": {
        "id": "iXfZBAIeRdhw",
        "colab_type": "code",
        "colab": {
          "base_uri": "https://localhost:8080/",
          "height": 35
        },
        "outputId": "09c13da4-bba1-4a81-d5e0-53a5750fb116"
      },
      "source": [
        "magazine_join.shape"
      ],
      "execution_count": null,
      "outputs": [
        {
          "output_type": "execute_result",
          "data": {
            "text/plain": [
              "(643212, 9)"
            ]
          },
          "metadata": {
            "tags": []
          },
          "execution_count": 59
        }
      ]
    },
    {
      "cell_type": "code",
      "metadata": {
        "id": "4cFNxMCQTepv",
        "colab_type": "code",
        "colab": {
          "base_uri": "https://localhost:8080/",
          "height": 1000
        },
        "outputId": "04b6c9df-3363-4311-81be-6f50b953e6ae"
      },
      "source": [
        "magazine_join.head(30)"
      ],
      "execution_count": null,
      "outputs": [
        {
          "output_type": "execute_result",
          "data": {
            "text/html": [
              "<div>\n",
              "<style scoped>\n",
              "    .dataframe tbody tr th:only-of-type {\n",
              "        vertical-align: middle;\n",
              "    }\n",
              "\n",
              "    .dataframe tbody tr th {\n",
              "        vertical-align: top;\n",
              "    }\n",
              "\n",
              "    .dataframe thead th {\n",
              "        text-align: right;\n",
              "    }\n",
              "</style>\n",
              "<table border=\"1\" class=\"dataframe\">\n",
              "  <thead>\n",
              "    <tr style=\"text-align: right;\">\n",
              "      <th></th>\n",
              "      <th>magazine_tag_list</th>\n",
              "      <th>user_id</th>\n",
              "      <th>title</th>\n",
              "      <th>keyword_list</th>\n",
              "      <th>display_url</th>\n",
              "      <th>sub_title</th>\n",
              "      <th>reg_ts</th>\n",
              "      <th>article_id</th>\n",
              "      <th>id</th>\n",
              "    </tr>\n",
              "  </thead>\n",
              "  <tbody>\n",
              "    <tr>\n",
              "      <th>0.0</th>\n",
              "      <td>[]</td>\n",
              "      <td>@hannahajink</td>\n",
              "      <td>무엇을 위해</td>\n",
              "      <td>[]</td>\n",
              "      <td>https://brunch.co.kr/@hannahajink/4</td>\n",
              "      <td>무엇 때문에</td>\n",
              "      <td>1.448e+12</td>\n",
              "      <td>4.0</td>\n",
              "      <td>@hannahajink_4</td>\n",
              "    </tr>\n",
              "    <tr>\n",
              "      <th>0.0</th>\n",
              "      <td>[]</td>\n",
              "      <td>@purnbd</td>\n",
              "      <td>동시빵가게</td>\n",
              "      <td>['도시애벌레', '공부', '동시']</td>\n",
              "      <td>https://brunch.co.kr/@purnbd/9</td>\n",
              "      <td>8. 동시빵 맛보기-'도시 애벌레'</td>\n",
              "      <td>1.50569e+12</td>\n",
              "      <td>9.0</td>\n",
              "      <td>@purnbd_9</td>\n",
              "    </tr>\n",
              "    <tr>\n",
              "      <th>0.0</th>\n",
              "      <td>[]</td>\n",
              "      <td>@purnbd</td>\n",
              "      <td>동시빵가게</td>\n",
              "      <td>['주머니', '동시', '빵가게']</td>\n",
              "      <td>https://brunch.co.kr/@purnbd/7</td>\n",
              "      <td>6. 동시빵 맛보기- '펠리컨'</td>\n",
              "      <td>1.50448e+12</td>\n",
              "      <td>7.0</td>\n",
              "      <td>@purnbd_7</td>\n",
              "    </tr>\n",
              "    <tr>\n",
              "      <th>0.0</th>\n",
              "      <td>[]</td>\n",
              "      <td>@fskene</td>\n",
              "      <td>첫사랑 이였을까?</td>\n",
              "      <td>['감성에세이', '사랑', '첫사랑']</td>\n",
              "      <td>https://brunch.co.kr/@fskene/247</td>\n",
              "      <td>NaN</td>\n",
              "      <td>1.47794e+12</td>\n",
              "      <td>247.0</td>\n",
              "      <td>@fskene_247</td>\n",
              "    </tr>\n",
              "    <tr>\n",
              "      <th>0.0</th>\n",
              "      <td>[]</td>\n",
              "      <td>@hyunj2407</td>\n",
              "      <td>기억을 쌓아 상영하는 곳</td>\n",
              "      <td>['문화극장', '극장']</td>\n",
              "      <td>https://brunch.co.kr/@hyunj2407/14</td>\n",
              "      <td>2016.09. 동두천 문화극장</td>\n",
              "      <td>1.47411e+12</td>\n",
              "      <td>14.0</td>\n",
              "      <td>@hyunj2407_14</td>\n",
              "    </tr>\n",
              "    <tr>\n",
              "      <th>0.0</th>\n",
              "      <td>[]</td>\n",
              "      <td>@ubermensch</td>\n",
              "      <td>17년 만에 다시 본 매트릭스</td>\n",
              "      <td>['영화', '매트릭스', '리뷰']</td>\n",
              "      <td>https://brunch.co.kr/@ubermensch/24</td>\n",
              "      <td>세번 봐도 괜찮을 철학적 SF 액션 영화</td>\n",
              "      <td>1.4772e+12</td>\n",
              "      <td>24.0</td>\n",
              "      <td>@ubermensch_24</td>\n",
              "    </tr>\n",
              "    <tr>\n",
              "      <th>0.0</th>\n",
              "      <td>[]</td>\n",
              "      <td>@thsgmlgns2</td>\n",
              "      <td>해설자 S 가 말하는 Z의 각론#3</td>\n",
              "      <td>['살구', '어깨', '해설자']</td>\n",
              "      <td>https://brunch.co.kr/@thsgmlgns2/16</td>\n",
              "      <td>S의 독백</td>\n",
              "      <td>1.48018e+12</td>\n",
              "      <td>16.0</td>\n",
              "      <td>@thsgmlgns2_16</td>\n",
              "    </tr>\n",
              "    <tr>\n",
              "      <th>0.0</th>\n",
              "      <td>[]</td>\n",
              "      <td>@bluehighway</td>\n",
              "      <td>캠프 엑스레이</td>\n",
              "      <td>['캠프', '엑스레이']</td>\n",
              "      <td>https://brunch.co.kr/@bluehighway/34</td>\n",
              "      <td>미국에서도 우리나라에서도 꼭 봐야 하는 영화</td>\n",
              "      <td>1.48025e+12</td>\n",
              "      <td>34.0</td>\n",
              "      <td>@bluehighway_34</td>\n",
              "    </tr>\n",
              "    <tr>\n",
              "      <th>0.0</th>\n",
              "      <td>[]</td>\n",
              "      <td>@purnbd</td>\n",
              "      <td>동시빵가게</td>\n",
              "      <td>['동시', '빵가게']</td>\n",
              "      <td>https://brunch.co.kr/@purnbd/3</td>\n",
              "      <td>3. 동시 빵가게  오픈 임박~!</td>\n",
              "      <td>1.50268e+12</td>\n",
              "      <td>3.0</td>\n",
              "      <td>@purnbd_3</td>\n",
              "    </tr>\n",
              "    <tr>\n",
              "      <th>0.0</th>\n",
              "      <td>[]</td>\n",
              "      <td>@junyoungcho</td>\n",
              "      <td>(1)민간주도 스마트 시티, 볼리비아 산타크루즈 신도시</td>\n",
              "      <td>['스마트시티', '볼리비아', '산타크루즈']</td>\n",
              "      <td>https://brunch.co.kr/@junyoungcho/2</td>\n",
              "      <td>신흥국의 스마트 시티를 가다.</td>\n",
              "      <td>1.49839e+12</td>\n",
              "      <td>2.0</td>\n",
              "      <td>@junyoungcho_2</td>\n",
              "    </tr>\n",
              "    <tr>\n",
              "      <th>0.0</th>\n",
              "      <td>[]</td>\n",
              "      <td>@semi</td>\n",
              "      <td>인사(人事)가 만사(萬事), PSD를 찾아라</td>\n",
              "      <td>['스타트업', '창업', '인사']</td>\n",
              "      <td>https://brunch.co.kr/@semi/16</td>\n",
              "      <td>'Dream Big(드림빅)'을 읽고</td>\n",
              "      <td>1.54962e+12</td>\n",
              "      <td>16.0</td>\n",
              "      <td>@semi_16</td>\n",
              "    </tr>\n",
              "    <tr>\n",
              "      <th>0.0</th>\n",
              "      <td>[]</td>\n",
              "      <td>@mori3</td>\n",
              "      <td>시티팝의 대부, 야마시타 타츠로</td>\n",
              "      <td>['제이팝', '음악', '일본']</td>\n",
              "      <td>https://brunch.co.kr/@mori3/52</td>\n",
              "      <td>주관적인 야마시타 타츠로 3대 명반</td>\n",
              "      <td>1.5086e+12</td>\n",
              "      <td>52.0</td>\n",
              "      <td>@mori3_52</td>\n",
              "    </tr>\n",
              "    <tr>\n",
              "      <th>0.0</th>\n",
              "      <td>[]</td>\n",
              "      <td>@purnbd</td>\n",
              "      <td>동시빵가게</td>\n",
              "      <td>['동시', '동화', '빵가게']</td>\n",
              "      <td>https://brunch.co.kr/@purnbd/1</td>\n",
              "      <td>1. 동시 빵가게를  찾아간  동화</td>\n",
              "      <td>1.50147e+12</td>\n",
              "      <td>1.0</td>\n",
              "      <td>@purnbd_1</td>\n",
              "    </tr>\n",
              "    <tr>\n",
              "      <th>0.0</th>\n",
              "      <td>[]</td>\n",
              "      <td>@icallu</td>\n",
              "      <td>메리 크리스마스</td>\n",
              "      <td>['그림일기', '드로잉', '공감에세이']</td>\n",
              "      <td>https://brunch.co.kr/@icallu/103</td>\n",
              "      <td>NaN</td>\n",
              "      <td>1.54574e+12</td>\n",
              "      <td>103.0</td>\n",
              "      <td>@icallu_103</td>\n",
              "    </tr>\n",
              "    <tr>\n",
              "      <th>0.0</th>\n",
              "      <td>[]</td>\n",
              "      <td>@ubermensch</td>\n",
              "      <td>연애말고 재밌는 거 없나?</td>\n",
              "      <td>['연애', '성격', '사랑']</td>\n",
              "      <td>https://brunch.co.kr/@ubermensch/29</td>\n",
              "      <td>그런거 없다</td>\n",
              "      <td>1.47766e+12</td>\n",
              "      <td>29.0</td>\n",
              "      <td>@ubermensch_29</td>\n",
              "    </tr>\n",
              "    <tr>\n",
              "      <th>0.0</th>\n",
              "      <td>[]</td>\n",
              "      <td>@angegardien</td>\n",
              "      <td>당신은 왜 아픈가?</td>\n",
              "      <td>['기쁨', '존재', '치앙마이']</td>\n",
              "      <td>https://brunch.co.kr/@angegardien/80</td>\n",
              "      <td>나로서 충만한 기쁨</td>\n",
              "      <td>1.55333e+12</td>\n",
              "      <td>80.0</td>\n",
              "      <td>@angegardien_80</td>\n",
              "    </tr>\n",
              "    <tr>\n",
              "      <th>0.0</th>\n",
              "      <td>[]</td>\n",
              "      <td>@wikitree</td>\n",
              "      <td>“상관성폭행“ 고충 털어놓는 여성 장교 성폭행한 지휘관</td>\n",
              "      <td>['지휘관', '장교']</td>\n",
              "      <td>https://brunch.co.kr/@wikitree/1863</td>\n",
              "      <td>NaN</td>\n",
              "      <td>1.50519e+12</td>\n",
              "      <td>1863.0</td>\n",
              "      <td>@wikitree_1863</td>\n",
              "    </tr>\n",
              "    <tr>\n",
              "      <th>0.0</th>\n",
              "      <td>[]</td>\n",
              "      <td>@wikitree</td>\n",
              "      <td>건너기만 해도 기부…청계천 보라빛 징검다리를 다녀왔다</td>\n",
              "      <td>['청계천', '서울']</td>\n",
              "      <td>https://brunch.co.kr/@wikitree/1866</td>\n",
              "      <td>“뿌듯뿌듯♥”</td>\n",
              "      <td>1.50529e+12</td>\n",
              "      <td>1866.0</td>\n",
              "      <td>@wikitree_1866</td>\n",
              "    </tr>\n",
              "    <tr>\n",
              "      <th>0.0</th>\n",
              "      <td>[]</td>\n",
              "      <td>@pagan98</td>\n",
              "      <td>회사생활</td>\n",
              "      <td>['회사생활', '회사']</td>\n",
              "      <td>https://brunch.co.kr/@pagan98/12</td>\n",
              "      <td>NaN</td>\n",
              "      <td>1.4821e+12</td>\n",
              "      <td>12.0</td>\n",
              "      <td>@pagan98_12</td>\n",
              "    </tr>\n",
              "    <tr>\n",
              "      <th>0.0</th>\n",
              "      <td>[]</td>\n",
              "      <td>@wikitree</td>\n",
              "      <td>“그뤠잇!” 휴대폰 번호 누르고 돈 받는 방법</td>\n",
              "      <td>['IT', '번호']</td>\n",
              "      <td>https://brunch.co.kr/@wikitree/1865</td>\n",
              "      <td>NaN</td>\n",
              "      <td>1.5052e+12</td>\n",
              "      <td>1865.0</td>\n",
              "      <td>@wikitree_1865</td>\n",
              "    </tr>\n",
              "    <tr>\n",
              "      <th>0.0</th>\n",
              "      <td>[]</td>\n",
              "      <td>@purnbd</td>\n",
              "      <td>동시빵가게</td>\n",
              "      <td>['눈빛', '동시', '사랑']</td>\n",
              "      <td>https://brunch.co.kr/@purnbd/5</td>\n",
              "      <td>5.  동시빵 맛보기 - '눈빛 사랑'</td>\n",
              "      <td>1.50388e+12</td>\n",
              "      <td>5.0</td>\n",
              "      <td>@purnbd_5</td>\n",
              "    </tr>\n",
              "    <tr>\n",
              "      <th>0.0</th>\n",
              "      <td>[]</td>\n",
              "      <td>@rkdls0222</td>\n",
              "      <td>취준생 02</td>\n",
              "      <td>['취준생', '대인기피증', '부정']</td>\n",
              "      <td>https://brunch.co.kr/@rkdls0222/11</td>\n",
              "      <td>사람 기피증</td>\n",
              "      <td>1.55315e+12</td>\n",
              "      <td>11.0</td>\n",
              "      <td>@rkdls0222_11</td>\n",
              "    </tr>\n",
              "    <tr>\n",
              "      <th>0.0</th>\n",
              "      <td>[]</td>\n",
              "      <td>@gaheepark</td>\n",
              "      <td>[영화ᆞ소성리] '사드' 당신은 무얼 떠올리시나요?</td>\n",
              "      <td>['사드', '평화', '할머니']</td>\n",
              "      <td>https://brunch.co.kr/@gaheepark/6</td>\n",
              "      <td>몰랐던 이야기,  알면 모른 척할 수 없는 이야기</td>\n",
              "      <td>1.53432e+12</td>\n",
              "      <td>6.0</td>\n",
              "      <td>@gaheepark_6</td>\n",
              "    </tr>\n",
              "    <tr>\n",
              "      <th>0.0</th>\n",
              "      <td>[]</td>\n",
              "      <td>@gaheepark</td>\n",
              "      <td>[책ᆞ김제동] 나의 권리 보증서 '헌법'</td>\n",
              "      <td>['헌법', '김제동', '당신']</td>\n",
              "      <td>https://brunch.co.kr/@gaheepark/7</td>\n",
              "      <td>책 [당신이 허락한다면 나는 이 말 하고 싶어요] -김제동- 독후감</td>\n",
              "      <td>1.53699e+12</td>\n",
              "      <td>7.0</td>\n",
              "      <td>@gaheepark_7</td>\n",
              "    </tr>\n",
              "    <tr>\n",
              "      <th>0.0</th>\n",
              "      <td>[]</td>\n",
              "      <td>@wikitree</td>\n",
              "      <td>위키트리-제네시스그룹 업무협약 체결</td>\n",
              "      <td>['중소기업', '제네시스그룹']</td>\n",
              "      <td>https://brunch.co.kr/@wikitree/1867</td>\n",
              "      <td>“브랜딩으로 중소기업에 활력을\"</td>\n",
              "      <td>1.50529e+12</td>\n",
              "      <td>1867.0</td>\n",
              "      <td>@wikitree_1867</td>\n",
              "    </tr>\n",
              "    <tr>\n",
              "      <th>0.0</th>\n",
              "      <td>[]</td>\n",
              "      <td>@binnie64ld</td>\n",
              "      <td>시 옮겨적어보기 30편</td>\n",
              "      <td>['시', '필사', '시인']</td>\n",
              "      <td>https://brunch.co.kr/@binnie64ld/30</td>\n",
              "      <td>발자국과 깊이 - 오규원</td>\n",
              "      <td>1.54437e+12</td>\n",
              "      <td>30.0</td>\n",
              "      <td>@binnie64ld_30</td>\n",
              "    </tr>\n",
              "    <tr>\n",
              "      <th>0.0</th>\n",
              "      <td>[]</td>\n",
              "      <td>@mohohan</td>\n",
              "      <td>끝없이 나부끼는 중</td>\n",
              "      <td>['연애']</td>\n",
              "      <td>https://brunch.co.kr/@mohohan/260</td>\n",
              "      <td>NaN</td>\n",
              "      <td>1.53961e+12</td>\n",
              "      <td>260.0</td>\n",
              "      <td>@mohohan_260</td>\n",
              "    </tr>\n",
              "    <tr>\n",
              "      <th>0.0</th>\n",
              "      <td>[]</td>\n",
              "      <td>@ubermensch</td>\n",
              "      <td>익숙한 것과의 결별 - 친구</td>\n",
              "      <td>['이별', '친구', '청춘']</td>\n",
              "      <td>https://brunch.co.kr/@ubermensch/28</td>\n",
              "      <td>NaN</td>\n",
              "      <td>1.47758e+12</td>\n",
              "      <td>28.0</td>\n",
              "      <td>@ubermensch_28</td>\n",
              "    </tr>\n",
              "    <tr>\n",
              "      <th>0.0</th>\n",
              "      <td>[]</td>\n",
              "      <td>@mohohan</td>\n",
              "      <td>어딘가 내 짝이 있음을</td>\n",
              "      <td>['연애', '믿음']</td>\n",
              "      <td>https://brunch.co.kr/@mohohan/262</td>\n",
              "      <td>NaN</td>\n",
              "      <td>1.54021e+12</td>\n",
              "      <td>262.0</td>\n",
              "      <td>@mohohan_262</td>\n",
              "    </tr>\n",
              "    <tr>\n",
              "      <th>0.0</th>\n",
              "      <td>[]</td>\n",
              "      <td>@wikitree</td>\n",
              "      <td>미국해변서 '80명 인간띠'로 조류 휩쓸린 일가족 구조</td>\n",
              "      <td>['미국해변', '미국']</td>\n",
              "      <td>https://brunch.co.kr/@wikitree/1546</td>\n",
              "      <td>NaN</td>\n",
              "      <td>1.49984e+12</td>\n",
              "      <td>1546.0</td>\n",
              "      <td>@wikitree_1546</td>\n",
              "    </tr>\n",
              "  </tbody>\n",
              "</table>\n",
              "</div>"
            ],
            "text/plain": [
              "    magazine_tag_list       user_id  ... article_id               id\n",
              "0.0                []  @hannahajink  ...        4.0   @hannahajink_4\n",
              "0.0                []       @purnbd  ...        9.0        @purnbd_9\n",
              "0.0                []       @purnbd  ...        7.0        @purnbd_7\n",
              "0.0                []       @fskene  ...      247.0      @fskene_247\n",
              "0.0                []    @hyunj2407  ...       14.0    @hyunj2407_14\n",
              "0.0                []   @ubermensch  ...       24.0   @ubermensch_24\n",
              "0.0                []   @thsgmlgns2  ...       16.0   @thsgmlgns2_16\n",
              "0.0                []  @bluehighway  ...       34.0  @bluehighway_34\n",
              "0.0                []       @purnbd  ...        3.0        @purnbd_3\n",
              "0.0                []  @junyoungcho  ...        2.0   @junyoungcho_2\n",
              "0.0                []         @semi  ...       16.0         @semi_16\n",
              "0.0                []        @mori3  ...       52.0        @mori3_52\n",
              "0.0                []       @purnbd  ...        1.0        @purnbd_1\n",
              "0.0                []       @icallu  ...      103.0      @icallu_103\n",
              "0.0                []   @ubermensch  ...       29.0   @ubermensch_29\n",
              "0.0                []  @angegardien  ...       80.0  @angegardien_80\n",
              "0.0                []     @wikitree  ...     1863.0   @wikitree_1863\n",
              "0.0                []     @wikitree  ...     1866.0   @wikitree_1866\n",
              "0.0                []      @pagan98  ...       12.0      @pagan98_12\n",
              "0.0                []     @wikitree  ...     1865.0   @wikitree_1865\n",
              "0.0                []       @purnbd  ...        5.0        @purnbd_5\n",
              "0.0                []    @rkdls0222  ...       11.0    @rkdls0222_11\n",
              "0.0                []    @gaheepark  ...        6.0     @gaheepark_6\n",
              "0.0                []    @gaheepark  ...        7.0     @gaheepark_7\n",
              "0.0                []     @wikitree  ...     1867.0   @wikitree_1867\n",
              "0.0                []   @binnie64ld  ...       30.0   @binnie64ld_30\n",
              "0.0                []      @mohohan  ...      260.0     @mohohan_260\n",
              "0.0                []   @ubermensch  ...       28.0   @ubermensch_28\n",
              "0.0                []      @mohohan  ...      262.0     @mohohan_262\n",
              "0.0                []     @wikitree  ...     1546.0   @wikitree_1546\n",
              "\n",
              "[30 rows x 9 columns]"
            ]
          },
          "metadata": {
            "tags": []
          },
          "execution_count": 67
        }
      ]
    },
    {
      "cell_type": "code",
      "metadata": {
        "id": "uqrKN504l2T1",
        "colab_type": "code",
        "colab": {
          "base_uri": "https://localhost:8080/",
          "height": 35
        },
        "outputId": "a92a34aa-e213-4c98-8f64-55c9706439cc"
      },
      "source": [
        "import pandas as pd\n",
        "\n",
        "users = pd.read_json('/content/drive/My Drive/branch/data/users.json', lines=True)\n",
        "users.shape"
      ],
      "execution_count": null,
      "outputs": [
        {
          "output_type": "execute_result",
          "data": {
            "text/plain": [
              "(310758, 3)"
            ]
          },
          "metadata": {
            "tags": []
          },
          "execution_count": 8
        }
      ]
    },
    {
      "cell_type": "code",
      "metadata": {
        "id": "qPc3aUmCmauU",
        "colab_type": "code",
        "colab": {
          "base_uri": "https://localhost:8080/",
          "height": 204
        },
        "outputId": "d41aff9e-8b6a-40df-f186-e944a0c5f9d0"
      },
      "source": [
        "users.head()"
      ],
      "execution_count": null,
      "outputs": [
        {
          "output_type": "execute_result",
          "data": {
            "text/html": [
              "<div>\n",
              "<style scoped>\n",
              "    .dataframe tbody tr th:only-of-type {\n",
              "        vertical-align: middle;\n",
              "    }\n",
              "\n",
              "    .dataframe tbody tr th {\n",
              "        vertical-align: top;\n",
              "    }\n",
              "\n",
              "    .dataframe thead th {\n",
              "        text-align: right;\n",
              "    }\n",
              "</style>\n",
              "<table border=\"1\" class=\"dataframe\">\n",
              "  <thead>\n",
              "    <tr style=\"text-align: right;\">\n",
              "      <th></th>\n",
              "      <th>keyword_list</th>\n",
              "      <th>following_list</th>\n",
              "      <th>id</th>\n",
              "    </tr>\n",
              "  </thead>\n",
              "  <tbody>\n",
              "    <tr>\n",
              "      <th>0</th>\n",
              "      <td>[]</td>\n",
              "      <td>[@perytail, @brunch]</td>\n",
              "      <td>#901985d8bc4c481805c4a4f911814c4a</td>\n",
              "    </tr>\n",
              "    <tr>\n",
              "      <th>1</th>\n",
              "      <td>[]</td>\n",
              "      <td>[@holidaymemories, @wadiz, @sciforus, @dailydu...</td>\n",
              "      <td>#1fd89e9dcfa64b45020d9eaca54e0eed</td>\n",
              "    </tr>\n",
              "    <tr>\n",
              "      <th>2</th>\n",
              "      <td>[]</td>\n",
              "      <td>[@commerceguy, @sunsutu, @kakao-it, @joohoonja...</td>\n",
              "      <td>#1d94baaea71a831e1f33e1c6bd126ed5</td>\n",
              "    </tr>\n",
              "    <tr>\n",
              "      <th>3</th>\n",
              "      <td>[]</td>\n",
              "      <td>[@amberjeon48, @forsy20, @nemotokki, @hawann, ...</td>\n",
              "      <td>#04641c01892b12dc018b1410e4928c0d</td>\n",
              "    </tr>\n",
              "    <tr>\n",
              "      <th>4</th>\n",
              "      <td>[]</td>\n",
              "      <td>[@dwcha7342, @iammento, @kakao-it, @dkam, @ant...</td>\n",
              "      <td>#65bcaff862aadff877e461f54187ab62</td>\n",
              "    </tr>\n",
              "  </tbody>\n",
              "</table>\n",
              "</div>"
            ],
            "text/plain": [
              "  keyword_list  ...                                 id\n",
              "0           []  ...  #901985d8bc4c481805c4a4f911814c4a\n",
              "1           []  ...  #1fd89e9dcfa64b45020d9eaca54e0eed\n",
              "2           []  ...  #1d94baaea71a831e1f33e1c6bd126ed5\n",
              "3           []  ...  #04641c01892b12dc018b1410e4928c0d\n",
              "4           []  ...  #65bcaff862aadff877e461f54187ab62\n",
              "\n",
              "[5 rows x 3 columns]"
            ]
          },
          "metadata": {
            "tags": []
          },
          "execution_count": 9
        }
      ]
    },
    {
      "cell_type": "code",
      "metadata": {
        "id": "ispa9ZAumkic",
        "colab_type": "code",
        "colab": {
          "base_uri": "https://localhost:8080/",
          "height": 708
        },
        "outputId": "6c91a24b-6ce7-4db3-c2e7-89ce056520aa"
      },
      "source": [
        "users"
      ],
      "execution_count": null,
      "outputs": [
        {
          "output_type": "execute_result",
          "data": {
            "text/html": [
              "<div>\n",
              "<style scoped>\n",
              "    .dataframe tbody tr th:only-of-type {\n",
              "        vertical-align: middle;\n",
              "    }\n",
              "\n",
              "    .dataframe tbody tr th {\n",
              "        vertical-align: top;\n",
              "    }\n",
              "\n",
              "    .dataframe thead th {\n",
              "        text-align: right;\n",
              "    }\n",
              "</style>\n",
              "<table border=\"1\" class=\"dataframe\">\n",
              "  <thead>\n",
              "    <tr style=\"text-align: right;\">\n",
              "      <th></th>\n",
              "      <th>keyword_list</th>\n",
              "      <th>following_list</th>\n",
              "      <th>id</th>\n",
              "    </tr>\n",
              "  </thead>\n",
              "  <tbody>\n",
              "    <tr>\n",
              "      <th>0</th>\n",
              "      <td>[]</td>\n",
              "      <td>[@perytail, @brunch]</td>\n",
              "      <td>#901985d8bc4c481805c4a4f911814c4a</td>\n",
              "    </tr>\n",
              "    <tr>\n",
              "      <th>1</th>\n",
              "      <td>[]</td>\n",
              "      <td>[@holidaymemories, @wadiz, @sciforus, @dailydu...</td>\n",
              "      <td>#1fd89e9dcfa64b45020d9eaca54e0eed</td>\n",
              "    </tr>\n",
              "    <tr>\n",
              "      <th>2</th>\n",
              "      <td>[]</td>\n",
              "      <td>[@commerceguy, @sunsutu, @kakao-it, @joohoonja...</td>\n",
              "      <td>#1d94baaea71a831e1f33e1c6bd126ed5</td>\n",
              "    </tr>\n",
              "    <tr>\n",
              "      <th>3</th>\n",
              "      <td>[]</td>\n",
              "      <td>[@amberjeon48, @forsy20, @nemotokki, @hawann, ...</td>\n",
              "      <td>#04641c01892b12dc018b1410e4928c0d</td>\n",
              "    </tr>\n",
              "    <tr>\n",
              "      <th>4</th>\n",
              "      <td>[]</td>\n",
              "      <td>[@dwcha7342, @iammento, @kakao-it, @dkam, @ant...</td>\n",
              "      <td>#65bcaff862aadff877e461f54187ab62</td>\n",
              "    </tr>\n",
              "    <tr>\n",
              "      <th>...</th>\n",
              "      <td>...</td>\n",
              "      <td>...</td>\n",
              "      <td>...</td>\n",
              "    </tr>\n",
              "    <tr>\n",
              "      <th>310753</th>\n",
              "      <td>[]</td>\n",
              "      <td>[@login002, @kkonal, @leeraha, @tobeme, @sohyu...</td>\n",
              "      <td>#2863e47d50f1640df6dac10b7bad94fb</td>\n",
              "    </tr>\n",
              "    <tr>\n",
              "      <th>310754</th>\n",
              "      <td>[]</td>\n",
              "      <td>[@simplelife-1p, @mint5051, @thecapitalist, @s...</td>\n",
              "      <td>#4341a155d1966e5618e310c45386aea4</td>\n",
              "    </tr>\n",
              "    <tr>\n",
              "      <th>310755</th>\n",
              "      <td>[]</td>\n",
              "      <td>[@cometseeker, @bijou, @suhanjang, @brunch]</td>\n",
              "      <td>#0d70f397a78d2ef638f812592fa8e6ba</td>\n",
              "    </tr>\n",
              "    <tr>\n",
              "      <th>310756</th>\n",
              "      <td>[{'cnt': 1, 'keyword': '꽃병 꽃꽂이'}, {'cnt': 1, '...</td>\n",
              "      <td>[@taekangk, @cielbleu, @yongisa, @joongheekim,...</td>\n",
              "      <td>#1bbf5e3d1e4c373103981cdd819812da</td>\n",
              "    </tr>\n",
              "    <tr>\n",
              "      <th>310757</th>\n",
              "      <td>[]</td>\n",
              "      <td>[]</td>\n",
              "      <td>#680cbb3ccc817891d2002f20a503e7e6</td>\n",
              "    </tr>\n",
              "  </tbody>\n",
              "</table>\n",
              "<p>310758 rows × 3 columns</p>\n",
              "</div>"
            ],
            "text/plain": [
              "                                             keyword_list  ...                                 id\n",
              "0                                                      []  ...  #901985d8bc4c481805c4a4f911814c4a\n",
              "1                                                      []  ...  #1fd89e9dcfa64b45020d9eaca54e0eed\n",
              "2                                                      []  ...  #1d94baaea71a831e1f33e1c6bd126ed5\n",
              "3                                                      []  ...  #04641c01892b12dc018b1410e4928c0d\n",
              "4                                                      []  ...  #65bcaff862aadff877e461f54187ab62\n",
              "...                                                   ...  ...                                ...\n",
              "310753                                                 []  ...  #2863e47d50f1640df6dac10b7bad94fb\n",
              "310754                                                 []  ...  #4341a155d1966e5618e310c45386aea4\n",
              "310755                                                 []  ...  #0d70f397a78d2ef638f812592fa8e6ba\n",
              "310756  [{'cnt': 1, 'keyword': '꽃병 꽃꽂이'}, {'cnt': 1, '...  ...  #1bbf5e3d1e4c373103981cdd819812da\n",
              "310757                                                 []  ...  #680cbb3ccc817891d2002f20a503e7e6\n",
              "\n",
              "[310758 rows x 3 columns]"
            ]
          },
          "metadata": {
            "tags": []
          },
          "execution_count": 8
        }
      ]
    },
    {
      "cell_type": "code",
      "metadata": {
        "id": "R1T10sQEmw1k",
        "colab_type": "code",
        "colab": {}
      },
      "source": [
        "import glob\n",
        "read_file_lst = glob.glob('/content/drive/My Drive/branch/read/read/*')"
      ],
      "execution_count": null,
      "outputs": []
    },
    {
      "cell_type": "code",
      "metadata": {
        "id": "JEEA1MzKnZz7",
        "colab_type": "code",
        "colab": {}
      },
      "source": [
        "exclude_file_lst = ['read.tar']"
      ],
      "execution_count": null,
      "outputs": []
    },
    {
      "cell_type": "code",
      "metadata": {
        "id": "Pm7jZ0SGnd0U",
        "colab_type": "code",
        "colab": {}
      },
      "source": [
        "read_df_lst = []\n",
        "for f in read_file_lst:\n",
        "    file_name = os.path.basename(f)\n",
        "    if file_name in exclude_file_lst:\n",
        "        print(file_name)\n",
        "    else:\n",
        "        df_temp = pd.read_csv(f, header=None, names=['raw'])\n",
        "        df_temp['dt'] = file_name[:8]\n",
        "        df_temp['hr'] = file_name[8:10]\n",
        "        df_temp['user_id'] = df_temp['raw'].str.split(' ').str[0]\n",
        "        df_temp['article_id'] = df_temp['raw'].str.split(' ').str[1:].str.join(' ').str.strip()\n",
        "        read_df_lst.append(df_temp)"
      ],
      "execution_count": null,
      "outputs": []
    },
    {
      "cell_type": "code",
      "metadata": {
        "id": "8nsqug2wvCcc",
        "colab_type": "code",
        "colab": {}
      },
      "source": [
        "read = pd.concat(read_df_lst)"
      ],
      "execution_count": null,
      "outputs": []
    },
    {
      "cell_type": "code",
      "metadata": {
        "id": "mrweDaIfvM_h",
        "colab_type": "code",
        "colab": {
          "base_uri": "https://localhost:8080/",
          "height": 35
        },
        "outputId": "670084fc-a0b4-4ffd-debe-0313c804f085"
      },
      "source": [
        "read.shape"
      ],
      "execution_count": null,
      "outputs": [
        {
          "output_type": "execute_result",
          "data": {
            "text/plain": [
              "(3507097, 5)"
            ]
          },
          "metadata": {
            "tags": []
          },
          "execution_count": 14
        }
      ]
    },
    {
      "cell_type": "code",
      "metadata": {
        "id": "dv9OPatjvPKa",
        "colab_type": "code",
        "colab": {
          "base_uri": "https://localhost:8080/",
          "height": 204
        },
        "outputId": "5cea41e3-b5be-4096-971c-aed97264babc"
      },
      "source": [
        "read.head()"
      ],
      "execution_count": null,
      "outputs": [
        {
          "output_type": "execute_result",
          "data": {
            "text/html": [
              "<div>\n",
              "<style scoped>\n",
              "    .dataframe tbody tr th:only-of-type {\n",
              "        vertical-align: middle;\n",
              "    }\n",
              "\n",
              "    .dataframe tbody tr th {\n",
              "        vertical-align: top;\n",
              "    }\n",
              "\n",
              "    .dataframe thead th {\n",
              "        text-align: right;\n",
              "    }\n",
              "</style>\n",
              "<table border=\"1\" class=\"dataframe\">\n",
              "  <thead>\n",
              "    <tr style=\"text-align: right;\">\n",
              "      <th></th>\n",
              "      <th>raw</th>\n",
              "      <th>dt</th>\n",
              "      <th>hr</th>\n",
              "      <th>user_id</th>\n",
              "      <th>article_id</th>\n",
              "    </tr>\n",
              "  </thead>\n",
              "  <tbody>\n",
              "    <tr>\n",
              "      <th>0</th>\n",
              "      <td>#3d6d98f06ae6024da6e01af11f19dfcb @seongheelee...</td>\n",
              "      <td>20190122</td>\n",
              "      <td>19</td>\n",
              "      <td>#3d6d98f06ae6024da6e01af11f19dfcb</td>\n",
              "      <td>@seongheeleelrwn_2 @thewatermelon_14 @thewater...</td>\n",
              "    </tr>\n",
              "    <tr>\n",
              "      <th>1</th>\n",
              "      <td>#a7f157a8a3fa2cb934799b5943dc34a0 @brunch_133</td>\n",
              "      <td>20190122</td>\n",
              "      <td>19</td>\n",
              "      <td>#a7f157a8a3fa2cb934799b5943dc34a0</td>\n",
              "      <td>@brunch_133</td>\n",
              "    </tr>\n",
              "    <tr>\n",
              "      <th>2</th>\n",
              "      <td>#40a04d5f58e3eb86f249f099a1580b2c @haereka_93</td>\n",
              "      <td>20190122</td>\n",
              "      <td>19</td>\n",
              "      <td>#40a04d5f58e3eb86f249f099a1580b2c</td>\n",
              "      <td>@haereka_93</td>\n",
              "    </tr>\n",
              "    <tr>\n",
              "      <th>3</th>\n",
              "      <td>#65a8fb00713e0b5bb30f129794e49cfa @shala_7 @ca...</td>\n",
              "      <td>20190122</td>\n",
              "      <td>19</td>\n",
              "      <td>#65a8fb00713e0b5bb30f129794e49cfa</td>\n",
              "      <td>@shala_7 @cardnews_10</td>\n",
              "    </tr>\n",
              "    <tr>\n",
              "      <th>4</th>\n",
              "      <td>#cd221250949c3f97988d43d68decb744 @bang1999_46...</td>\n",
              "      <td>20190122</td>\n",
              "      <td>19</td>\n",
              "      <td>#cd221250949c3f97988d43d68decb744</td>\n",
              "      <td>@bang1999_467 @bang1999_467 @bang1999_468</td>\n",
              "    </tr>\n",
              "  </tbody>\n",
              "</table>\n",
              "</div>"
            ],
            "text/plain": [
              "                                                 raw  ...                                         article_id\n",
              "0  #3d6d98f06ae6024da6e01af11f19dfcb @seongheelee...  ...  @seongheeleelrwn_2 @thewatermelon_14 @thewater...\n",
              "1     #a7f157a8a3fa2cb934799b5943dc34a0 @brunch_133   ...                                        @brunch_133\n",
              "2     #40a04d5f58e3eb86f249f099a1580b2c @haereka_93   ...                                        @haereka_93\n",
              "3  #65a8fb00713e0b5bb30f129794e49cfa @shala_7 @ca...  ...                              @shala_7 @cardnews_10\n",
              "4  #cd221250949c3f97988d43d68decb744 @bang1999_46...  ...          @bang1999_467 @bang1999_467 @bang1999_468\n",
              "\n",
              "[5 rows x 5 columns]"
            ]
          },
          "metadata": {
            "tags": []
          },
          "execution_count": 15
        }
      ]
    },
    {
      "cell_type": "code",
      "metadata": {
        "id": "utfWkpRpGays",
        "colab_type": "code",
        "colab": {
          "base_uri": "https://localhost:8080/",
          "height": 204
        },
        "outputId": "d9121647-dbd7-43f4-a084-5edec5e25e52"
      },
      "source": [
        "col = ['dt', 'hr', 'user_id', 'article_id']\n",
        "read_df = read[col]\n",
        "read_df.head()"
      ],
      "execution_count": null,
      "outputs": [
        {
          "output_type": "execute_result",
          "data": {
            "text/html": [
              "<div>\n",
              "<style scoped>\n",
              "    .dataframe tbody tr th:only-of-type {\n",
              "        vertical-align: middle;\n",
              "    }\n",
              "\n",
              "    .dataframe tbody tr th {\n",
              "        vertical-align: top;\n",
              "    }\n",
              "\n",
              "    .dataframe thead th {\n",
              "        text-align: right;\n",
              "    }\n",
              "</style>\n",
              "<table border=\"1\" class=\"dataframe\">\n",
              "  <thead>\n",
              "    <tr style=\"text-align: right;\">\n",
              "      <th></th>\n",
              "      <th>dt</th>\n",
              "      <th>hr</th>\n",
              "      <th>user_id</th>\n",
              "      <th>article_id</th>\n",
              "    </tr>\n",
              "  </thead>\n",
              "  <tbody>\n",
              "    <tr>\n",
              "      <th>0</th>\n",
              "      <td>20190122</td>\n",
              "      <td>19</td>\n",
              "      <td>#3d6d98f06ae6024da6e01af11f19dfcb</td>\n",
              "      <td>@seongheeleelrwn_2 @thewatermelon_14 @thewater...</td>\n",
              "    </tr>\n",
              "    <tr>\n",
              "      <th>1</th>\n",
              "      <td>20190122</td>\n",
              "      <td>19</td>\n",
              "      <td>#a7f157a8a3fa2cb934799b5943dc34a0</td>\n",
              "      <td>@brunch_133</td>\n",
              "    </tr>\n",
              "    <tr>\n",
              "      <th>2</th>\n",
              "      <td>20190122</td>\n",
              "      <td>19</td>\n",
              "      <td>#40a04d5f58e3eb86f249f099a1580b2c</td>\n",
              "      <td>@haereka_93</td>\n",
              "    </tr>\n",
              "    <tr>\n",
              "      <th>3</th>\n",
              "      <td>20190122</td>\n",
              "      <td>19</td>\n",
              "      <td>#65a8fb00713e0b5bb30f129794e49cfa</td>\n",
              "      <td>@shala_7 @cardnews_10</td>\n",
              "    </tr>\n",
              "    <tr>\n",
              "      <th>4</th>\n",
              "      <td>20190122</td>\n",
              "      <td>19</td>\n",
              "      <td>#cd221250949c3f97988d43d68decb744</td>\n",
              "      <td>@bang1999_467 @bang1999_467 @bang1999_468</td>\n",
              "    </tr>\n",
              "  </tbody>\n",
              "</table>\n",
              "</div>"
            ],
            "text/plain": [
              "         dt  ...                                         article_id\n",
              "0  20190122  ...  @seongheeleelrwn_2 @thewatermelon_14 @thewater...\n",
              "1  20190122  ...                                        @brunch_133\n",
              "2  20190122  ...                                        @haereka_93\n",
              "3  20190122  ...                              @shala_7 @cardnews_10\n",
              "4  20190122  ...          @bang1999_467 @bang1999_467 @bang1999_468\n",
              "\n",
              "[5 rows x 4 columns]"
            ]
          },
          "metadata": {
            "tags": []
          },
          "execution_count": 27
        }
      ]
    },
    {
      "cell_type": "code",
      "metadata": {
        "id": "G5liYyEBIdda",
        "colab_type": "code",
        "colab": {}
      },
      "source": [
        "read_df.to_csv('/content/drive/My Drive/branch/data/read.csv', index = False)"
      ],
      "execution_count": null,
      "outputs": []
    },
    {
      "cell_type": "code",
      "metadata": {
        "id": "byktFSd_I78C",
        "colab_type": "code",
        "colab": {
          "base_uri": "https://localhost:8080/",
          "height": 204
        },
        "outputId": "a85f4b6a-90e0-4823-9ed2-28ed44a06b44"
      },
      "source": [
        "df_read= pd.read_csv('/content/drive/My Drive/branch/data/read.csv')\n",
        "df_read.head()"
      ],
      "execution_count": null,
      "outputs": [
        {
          "output_type": "execute_result",
          "data": {
            "text/html": [
              "<div>\n",
              "<style scoped>\n",
              "    .dataframe tbody tr th:only-of-type {\n",
              "        vertical-align: middle;\n",
              "    }\n",
              "\n",
              "    .dataframe tbody tr th {\n",
              "        vertical-align: top;\n",
              "    }\n",
              "\n",
              "    .dataframe thead th {\n",
              "        text-align: right;\n",
              "    }\n",
              "</style>\n",
              "<table border=\"1\" class=\"dataframe\">\n",
              "  <thead>\n",
              "    <tr style=\"text-align: right;\">\n",
              "      <th></th>\n",
              "      <th>dt</th>\n",
              "      <th>hr</th>\n",
              "      <th>user_id</th>\n",
              "      <th>article_id</th>\n",
              "    </tr>\n",
              "  </thead>\n",
              "  <tbody>\n",
              "    <tr>\n",
              "      <th>0</th>\n",
              "      <td>20190122</td>\n",
              "      <td>19</td>\n",
              "      <td>#3d6d98f06ae6024da6e01af11f19dfcb</td>\n",
              "      <td>@seongheeleelrwn_2 @thewatermelon_14 @thewater...</td>\n",
              "    </tr>\n",
              "    <tr>\n",
              "      <th>1</th>\n",
              "      <td>20190122</td>\n",
              "      <td>19</td>\n",
              "      <td>#a7f157a8a3fa2cb934799b5943dc34a0</td>\n",
              "      <td>@brunch_133</td>\n",
              "    </tr>\n",
              "    <tr>\n",
              "      <th>2</th>\n",
              "      <td>20190122</td>\n",
              "      <td>19</td>\n",
              "      <td>#40a04d5f58e3eb86f249f099a1580b2c</td>\n",
              "      <td>@haereka_93</td>\n",
              "    </tr>\n",
              "    <tr>\n",
              "      <th>3</th>\n",
              "      <td>20190122</td>\n",
              "      <td>19</td>\n",
              "      <td>#65a8fb00713e0b5bb30f129794e49cfa</td>\n",
              "      <td>@shala_7 @cardnews_10</td>\n",
              "    </tr>\n",
              "    <tr>\n",
              "      <th>4</th>\n",
              "      <td>20190122</td>\n",
              "      <td>19</td>\n",
              "      <td>#cd221250949c3f97988d43d68decb744</td>\n",
              "      <td>@bang1999_467 @bang1999_467 @bang1999_468</td>\n",
              "    </tr>\n",
              "  </tbody>\n",
              "</table>\n",
              "</div>"
            ],
            "text/plain": [
              "         dt  ...                                         article_id\n",
              "0  20190122  ...  @seongheeleelrwn_2 @thewatermelon_14 @thewater...\n",
              "1  20190122  ...                                        @brunch_133\n",
              "2  20190122  ...                                        @haereka_93\n",
              "3  20190122  ...                              @shala_7 @cardnews_10\n",
              "4  20190122  ...          @bang1999_467 @bang1999_467 @bang1999_468\n",
              "\n",
              "[5 rows x 4 columns]"
            ]
          },
          "metadata": {
            "tags": []
          },
          "execution_count": 38
        }
      ]
    },
    {
      "cell_type": "code",
      "metadata": {
        "id": "_xlGNfjDKID5",
        "colab_type": "code",
        "colab": {
          "base_uri": "https://localhost:8080/",
          "height": 35
        },
        "outputId": "54616e83-502c-4a02-ee91-03dd60db6b70"
      },
      "source": [
        "df_read.shape"
      ],
      "execution_count": null,
      "outputs": [
        {
          "output_type": "execute_result",
          "data": {
            "text/plain": [
              "(3507097, 4)"
            ]
          },
          "metadata": {
            "tags": []
          },
          "execution_count": 39
        }
      ]
    }
  ]
}